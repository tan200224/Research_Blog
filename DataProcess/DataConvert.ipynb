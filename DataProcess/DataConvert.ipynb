{
 "cells": [
  {
   "cell_type": "markdown",
   "id": "b916e1d1",
   "metadata": {},
   "source": [
    "# Create Groups of 90 slices"
   ]
  },
  {
   "cell_type": "code",
   "execution_count": 44,
   "id": "c4a699cd",
   "metadata": {},
   "outputs": [],
   "source": [
    "import pandas as pd\n",
    "import numpy as np\n",
    "import cv2 \n",
    "from matplotlib import pyplot as plt\n",
    "from glob import glob\n",
    "import shutil\n",
    "import os\n",
    "import dicom2nifti\n",
    "from tqdm import tqdm\n",
    "import nibabel as nib"
   ]
  },
  {
   "cell_type": "code",
   "execution_count": 32,
   "id": "0f458ab6",
   "metadata": {},
   "outputs": [],
   "source": [
    "in_path = \"D:/LumenResearchDataBase/Task07_Pancreas/Task07_Pancreas/dicome_groups/dicom_group90/dicome_flies/label\"\n",
    "out_path = \"D:/LumenResearchDataBase/Task07_Pancreas/Task07_Pancreas/dicome_groups/dicom_group90/label\""
   ]
  },
  {
   "cell_type": "code",
   "execution_count": 33,
   "id": "1f998ebd",
   "metadata": {},
   "outputs": [],
   "source": [
    "# glob will open every item in the folder, and we need to specify the extension of the file too\n",
    "# but if folder use: /*\n",
    "\n",
    "for patient in glob(in_path + '/*'):\n",
    "    patient_name = os.path.basename(os.path.normpath(patient))\n",
    "    \n",
    "    # Here we need to calculate the number of folders which mean into how many groups we will divide the number of slices\n",
    "    Number_slices = 90\n",
    "    number_folders = int(len(glob(patient + '/*')) / Number_slices)\n",
    "\n",
    "    for i in range(number_folders):\n",
    "        output_path = os.path.join(out_path, patient_name + '_' + str(i))\n",
    "        os.mkdir(output_path)\n",
    "\n",
    "        # Move the slices into a specific folder so that you will save memory in your desk\n",
    "        for i, file in enumerate(glob(patient + '/*')):\n",
    "            if i == Number_slices + 1:\n",
    "                break\n",
    "                \n",
    "            shutil.move(file, output_path)\n"
   ]
  },
  {
   "cell_type": "markdown",
   "id": "fc393f71",
   "metadata": {},
   "source": [
    "# Convert the dicom files into nifties"
   ]
  },
  {
   "cell_type": "code",
   "execution_count": 41,
   "id": "9ee56efa",
   "metadata": {},
   "outputs": [],
   "source": [
    "# We adding the /* at the end of the path for the glob to recongize we want everything\n",
    "in_path_training = 'D:/LumenResearchDataBase/Task07_Pancreas/Task07_Pancreas/dicome_groups/dicom_group90/training/*'\n",
    "in_path_label = 'D:/LumenResearchDataBase/Task07_Pancreas/Task07_Pancreas/dicome_groups/dicom_group90/label/*'\n",
    "\n",
    "out_path_training = 'D:/LumenResearchDataBase/Task07_Pancreas/Task07_Pancreas/nifti_groups/nifti_group90/training'\n",
    "out_path_labels = 'D:/LumenResearchDataBase/Task07_Pancreas/Task07_Pancreas/nifti_groups/nifti_group90/labels'\n",
    "\n",
    "list_training = sorted(glob(in_path_training))\n",
    "list_label = sorted(glob(in_path_label))\n"
   ]
  },
  {
   "cell_type": "code",
   "execution_count": 42,
   "id": "547f0028",
   "metadata": {},
   "outputs": [],
   "source": [
    "for patient in list_training:\n",
    "    patient_name = os.path.basename(os.path.normpath(patient))\n",
    "    dicom2nifti.dicom_series_to_nifti(patient, os.path.join(out_path_training, patient_name + \".nii.gz\"))\n",
    "    \n",
    "for patient in list_label:   \n",
    "    patient_name = os.path.basename(os.path.normpath(patient))\n",
    "    if patient is not None:\n",
    "        dicom2nifti.dicom_series_to_nifti(patient, os.path.join(out_path_labels, patient_name + \".nii.gz\"))"
   ]
  },
  {
   "cell_type": "markdown",
   "id": "c144f448",
   "metadata": {},
   "source": [
    "# Make Sure the training and label have the same # of dicom files"
   ]
  },
  {
   "cell_type": "code",
   "execution_count": 47,
   "id": "df13ad67",
   "metadata": {},
   "outputs": [
    {
     "name": "stdout",
     "output_type": "stream",
     "text": [
      "D:/LumenResearchDataBase/Task07_Pancreas/Task07_Pancreas/nifti_groups/nifti_group90/labels\\Pancreas_133_0.nii.gz\n",
      "D:/LumenResearchDataBase/Task07_Pancreas/Task07_Pancreas/nifti_groups/nifti_group90/labels\\Pancreas_250_0.nii.gz\n",
      "D:/LumenResearchDataBase/Task07_Pancreas/Task07_Pancreas/nifti_groups/nifti_group90/labels\\Pancreas_250_1.nii.gz\n",
      "D:/LumenResearchDataBase/Task07_Pancreas/Task07_Pancreas/nifti_groups/nifti_group90/labels\\Pancreas_261_0.nii.gz\n",
      "D:/LumenResearchDataBase/Task07_Pancreas/Task07_Pancreas/nifti_groups/nifti_group90/labels\\Pancreas_270_0.nii.gz\n",
      "D:/LumenResearchDataBase/Task07_Pancreas/Task07_Pancreas/nifti_groups/nifti_group90/labels\\Pancreas_270_1.nii.gz\n",
      "D:/LumenResearchDataBase/Task07_Pancreas/Task07_Pancreas/nifti_groups/nifti_group90/labels\\Pancreas_270_2.nii.gz\n",
      "D:/LumenResearchDataBase/Task07_Pancreas/Task07_Pancreas/nifti_groups/nifti_group90/labels\\Pancreas_270_3.nii.gz\n",
      "D:/LumenResearchDataBase/Task07_Pancreas/Task07_Pancreas/nifti_groups/nifti_group90/labels\\Pancreas_270_4.nii.gz\n",
      "D:/LumenResearchDataBase/Task07_Pancreas/Task07_Pancreas/nifti_groups/nifti_group90/labels\\Pancreas_270_7.nii.gz\n",
      "D:/LumenResearchDataBase/Task07_Pancreas/Task07_Pancreas/nifti_groups/nifti_group90/labels\\Pancreas_273_0.nii.gz\n"
     ]
    }
   ],
   "source": [
    "input_path_labels = 'D:/LumenResearchDataBase/Task07_Pancreas/Task07_Pancreas/nifti_groups/nifti_group90/labels/*'\n",
    "\n",
    "for label in glob(input_path_labels):\n",
    "\n",
    "    nifti_file = nib.load(label)\n",
    "    fdata =  nifti_file.get_fdata()\n",
    "    np_unique = np.unique(fdata)\n",
    "\n",
    "    if len(np.unique(fdata)) <= 1:\n",
    "        print(label)"
   ]
  },
  {
   "cell_type": "code",
   "execution_count": 67,
   "id": "39ead917",
   "metadata": {},
   "outputs": [],
   "source": [
    "in_path_training = glob(\"D:/LumenResearchDataBase/Task07_Pancreas/Task07_Pancreas/dicome_flies/training/*\")\n",
    "in_path_label = glob(\"D:/LumenResearchDataBase/Task07_Pancreas/Task07_Pancreas/dicome_flies/label/*\")\n",
    "\n",
    "for training, label in zip(in_path_training, in_path_label):\n",
    "    training_lst = os.listdir(training)\n",
    "    label_lst = os.listdir(label)\n",
    "    number_training = len(training_lst)\n",
    "    number_label = len(label_lst)\n",
    "    if number_training != number_label:\n",
    "        print(training, label)"
   ]
  },
  {
   "cell_type": "markdown",
   "id": "2c752a51",
   "metadata": {},
   "source": [
    "# Find Empty (The Label with no Pancreas)\n"
   ]
  },
  {
   "cell_type": "code",
   "execution_count": null,
   "id": "f325e8c1",
   "metadata": {},
   "outputs": [],
   "source": [
    "\n",
    "input_path_labels = 'D:/LumenResearchDataBase/Task07_Pancreas/Task07_Pancreas/nifti_groups/nifti_group90/labels/*'\n",
    "\n",
    "for label in glob(input_path_labels):\n",
    "\n",
    "    nifti_file = nib.load(label)\n",
    "    fdata =  nifti_file.get_fdata()\n",
    "    np_unique = np.unique(fdata)\n",
    "\n",
    "    if len(np.unique(fdata)) <= 1:\n",
    "        print(label)"
   ]
  },
  {
   "cell_type": "code",
   "execution_count": 68,
   "id": "e1e02224",
   "metadata": {},
   "outputs": [
    {
     "data": {
      "text/plain": [
       "{'NII_FILE': 'D:/LumenResearchDataBase/Task07_Pancreas/Task07_Pancreas/nifti_groups/nifti_group90/labels\\\\Pancreas_98_0.nii.gz',\n",
       " 'NII': <nibabel.nifti1.Nifti1Image at 0x297cc013ac0>,\n",
       " 'MAX_SLICE_INCREMENT': 2.5}"
      ]
     },
     "execution_count": 68,
     "metadata": {},
     "output_type": "execute_result"
    }
   ],
   "source": [
    "input_path_labels = 'D:/LumenResearchDataBase/Task07_Pancreas/Task07_Pancreas/dicome_groups/dicom_group90/label/Pancreas_98_0'\n",
    "os.path.basename(os.path.normpath(input_path_labels))\n",
    "\n",
    "dicom2nifti.dicom_series_to_nifti(input_path_labels, os.path.join(out_path_labels, patient_name + \".nii.gz\"))"
   ]
  },
  {
   "cell_type": "code",
   "execution_count": null,
   "id": "c26e5d2e",
   "metadata": {},
   "outputs": [],
   "source": []
  }
 ],
 "metadata": {
  "kernelspec": {
   "display_name": "Python 3 (ipykernel)",
   "language": "python",
   "name": "python3"
  },
  "language_info": {
   "codemirror_mode": {
    "name": "ipython",
    "version": 3
   },
   "file_extension": ".py",
   "mimetype": "text/x-python",
   "name": "python",
   "nbconvert_exporter": "python",
   "pygments_lexer": "ipython3",
   "version": "3.9.18"
  }
 },
 "nbformat": 4,
 "nbformat_minor": 5
}
